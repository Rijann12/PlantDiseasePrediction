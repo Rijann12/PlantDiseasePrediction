{
  "cells": [
    {
      "cell_type": "markdown",
      "metadata": {
        "id": "view-in-github",
        "colab_type": "text"
      },
      "source": [
        "<a href=\"https://colab.research.google.com/github/Rijann12/PlantDiseasePrediction/blob/main/ProjectModelTrain.ipynb\" target=\"_parent\"><img src=\"https://colab.research.google.com/assets/colab-badge.svg\" alt=\"Open In Colab\"/></a>"
      ]
    },
    {
      "cell_type": "markdown",
      "metadata": {
        "id": "Prjzt277vWkM"
      },
      "source": [
        "#Importing Libraries"
      ]
    },
    {
      "cell_type": "code",
      "execution_count": null,
      "metadata": {
        "id": "t7oXxCULvLxi"
      },
      "outputs": [],
      "source": [
        "import tensorflow as tf\n",
        "import matplotlib.pyplot as plt\n",
        "import pandas as pd\n",
        "import seaborn as sns"
      ]
    },
    {
      "cell_type": "markdown",
      "metadata": {
        "id": "G6HtHc5OvbJM"
      },
      "source": [
        "# Data Preprocessing"
      ]
    },
    {
      "cell_type": "markdown",
      "metadata": {
        "id": "dmz1EqAavhjd"
      },
      "source": [
        "## Training Image Preprocessing"
      ]
    },
    {
      "cell_type": "code",
      "execution_count": null,
      "metadata": {
        "colab": {
          "base_uri": "https://localhost:8080/"
        },
        "id": "DYPmkHQIvezK",
        "outputId": "e3a6a6d5-3d12-46a3-82d5-c7c635430b95"
      },
      "outputs": [
        {
          "name": "stdout",
          "output_type": "stream",
          "text": [
            "Found 58422 files belonging to 32 classes.\n"
          ]
        }
      ],
      "source": [
        "training_set = tf.keras.utils.image_dataset_from_directory(\n",
        "    '/content/drive/MyDrive/ProjectData/train',\n",
        "    labels=\"inferred\",\n",
        "    label_mode=\"categorical\",\n",
        "    class_names=None,\n",
        "    color_mode=\"rgb\",\n",
        "    batch_size=32,\n",
        "    image_size=(64, 64),\n",
        "    shuffle=True,\n",
        "    seed=None,\n",
        "    validation_split=None,\n",
        "    subset=None,\n",
        "    interpolation=\"bilinear\",\n",
        "    follow_links=False,\n",
        "    crop_to_aspect_ratio=False,\n",
        "    pad_to_aspect_ratio=False,\n",
        "    data_format=None,\n",
        "    verbose=True,\n",
        ")\n",
        "# mathi ko directory wala ma hamle save gareko directory ma vako lekhne\n"
      ]
    },
    {
      "cell_type": "code",
      "execution_count": null,
      "metadata": {
        "colab": {
          "base_uri": "https://localhost:8080/"
        },
        "id": "DoGxaYpiDG2V",
        "outputId": "2f60d3c7-93a0-4e44-f04c-ecbd60c318ea"
      },
      "outputs": [
        {
          "data": {
            "text/plain": [
              "<_PrefetchDataset element_spec=(TensorSpec(shape=(None, 128, 128, 3), dtype=tf.float32, name=None), TensorSpec(shape=(None, 32), dtype=tf.float32, name=None))>"
            ]
          },
          "execution_count": 3,
          "metadata": {},
          "output_type": "execute_result"
        }
      ],
      "source": [
        "training_set"
      ]
    },
    {
      "cell_type": "code",
      "execution_count": null,
      "metadata": {
        "colab": {
          "base_uri": "https://localhost:8080/"
        },
        "id": "RCqgDsjKDLCl",
        "outputId": "6869a2cf-1f55-4d9d-84f8-94919b45ab46"
      },
      "outputs": [
        {
          "name": "stdout",
          "output_type": "stream",
          "text": [
            "tf.Tensor(\n",
            "[[[[104.5   98.5  100.5 ]\n",
            "   [102.5   96.5   98.5 ]\n",
            "   [100.25  94.25  96.25]\n",
            "   ...\n",
            "   [100.25  95.25  92.25]\n",
            "   [ 96.5   91.5   88.5 ]\n",
            "   [ 92.5   87.5   84.5 ]]\n",
            "\n",
            "  [[109.   103.   105.  ]\n",
            "   [ 98.75  92.75  94.75]\n",
            "   [105.25  99.25 101.25]\n",
            "   ...\n",
            "   [ 90.5   85.5   82.5 ]\n",
            "   [108.   103.   100.  ]\n",
            "   [ 98.    93.    90.  ]]\n",
            "\n",
            "  [[103.25  97.25  99.25]\n",
            "   [ 99.5   93.5   95.5 ]\n",
            "   [ 92.75  86.75  88.75]\n",
            "   ...\n",
            "   [ 98.75  93.75  90.75]\n",
            "   [ 97.75  92.75  89.75]\n",
            "   [ 97.5   92.5   89.5 ]]\n",
            "\n",
            "  ...\n",
            "\n",
            "  [[148.5  147.5  153.5 ]\n",
            "   [153.75 152.75 158.75]\n",
            "   [147.75 146.75 152.75]\n",
            "   ...\n",
            "   [123.   118.   125.  ]\n",
            "   [132.   127.   134.  ]\n",
            "   [137.25 132.25 139.25]]\n",
            "\n",
            "  [[145.   144.   150.  ]\n",
            "   [151.5  150.5  156.5 ]\n",
            "   [146.   145.   151.  ]\n",
            "   ...\n",
            "   [126.   121.   128.  ]\n",
            "   [127.5  122.5  129.5 ]\n",
            "   [121.25 116.25 123.25]]\n",
            "\n",
            "  [[146.25 145.25 151.25]\n",
            "   [145.5  144.5  150.5 ]\n",
            "   [144.   143.   149.  ]\n",
            "   ...\n",
            "   [131.   126.   133.  ]\n",
            "   [129.25 124.25 131.25]\n",
            "   [124.75 119.75 126.75]]]\n",
            "\n",
            "\n",
            " [[[ 63.25  72.25 113.25]\n",
            "   [ 59.25  68.25 109.25]\n",
            "   [ 53.75  62.75 103.75]\n",
            "   ...\n",
            "   [109.5  131.5  180.5 ]\n",
            "   [108.75 130.75 179.75]\n",
            "   [113.5  135.5  184.5 ]]\n",
            "\n",
            "  [[ 60.    69.   110.  ]\n",
            "   [ 56.5   65.5  106.5 ]\n",
            "   [ 58.25  67.25 108.25]\n",
            "   ...\n",
            "   [108.25 130.25 179.25]\n",
            "   [106.25 128.25 177.25]\n",
            "   [105.75 127.75 176.75]]\n",
            "\n",
            "  [[ 52.75  61.75 102.75]\n",
            "   [ 45.5   54.5   95.5 ]\n",
            "   [ 69.    78.   119.  ]\n",
            "   ...\n",
            "   [107.75 129.75 178.75]\n",
            "   [109.25 131.25 180.25]\n",
            "   [109.   131.   180.  ]]\n",
            "\n",
            "  ...\n",
            "\n",
            "  [[ 53.25  61.25  97.25]\n",
            "   [ 38.75  46.75  82.75]\n",
            "   [ 45.    53.    89.  ]\n",
            "   ...\n",
            "   [ 94.75 115.75 158.75]\n",
            "   [ 93.25 114.25 157.25]\n",
            "   [ 97.5  118.5  161.5 ]]\n",
            "\n",
            "  [[ 46.75  54.75  90.75]\n",
            "   [ 49.75  57.75  93.75]\n",
            "   [ 51.75  59.75  95.75]\n",
            "   ...\n",
            "   [ 99.   120.   163.  ]\n",
            "   [100.5  121.5  164.5 ]\n",
            "   [ 98.75 119.75 162.75]]\n",
            "\n",
            "  [[ 45.25  53.25  89.25]\n",
            "   [ 35.5   43.5   79.5 ]\n",
            "   [ 45.25  53.25  89.25]\n",
            "   ...\n",
            "   [ 97.25 118.25 161.25]\n",
            "   [ 96.75 117.75 160.75]\n",
            "   [ 96.5  117.5  160.5 ]]]\n",
            "\n",
            "\n",
            " [[[192.75 190.75 201.75]\n",
            "   [190.5  188.5  199.5 ]\n",
            "   [190.   188.   199.  ]\n",
            "   ...\n",
            "   [181.   179.   190.  ]\n",
            "   [180.25 178.25 189.25]\n",
            "   [179.   177.   188.  ]]\n",
            "\n",
            "  [[191.5  189.5  200.5 ]\n",
            "   [196.5  194.5  205.5 ]\n",
            "   [195.25 193.25 204.25]\n",
            "   ...\n",
            "   [177.25 175.25 186.25]\n",
            "   [179.   177.   188.  ]\n",
            "   [174.75 172.75 183.75]]\n",
            "\n",
            "  [[186.25 184.25 195.25]\n",
            "   [190.75 188.75 199.75]\n",
            "   [192.5  190.5  201.5 ]\n",
            "   ...\n",
            "   [174.5  172.5  183.5 ]\n",
            "   [173.25 171.25 182.25]\n",
            "   [172.75 170.75 181.75]]\n",
            "\n",
            "  ...\n",
            "\n",
            "  [[152.5  149.5  156.5 ]\n",
            "   [148.25 145.25 152.25]\n",
            "   [142.   139.   146.  ]\n",
            "   ...\n",
            "   [133.75 127.75 139.75]\n",
            "   [137.   131.   143.  ]\n",
            "   [143.75 137.75 149.75]]\n",
            "\n",
            "  [[148.75 145.75 152.75]\n",
            "   [147.   144.   151.  ]\n",
            "   [145.75 142.75 149.75]\n",
            "   ...\n",
            "   [146.75 140.75 152.75]\n",
            "   [134.25 128.25 140.25]\n",
            "   [134.   128.   140.  ]]\n",
            "\n",
            "  [[144.5  141.5  148.5 ]\n",
            "   [148.25 145.25 152.25]\n",
            "   [144.5  141.5  148.5 ]\n",
            "   ...\n",
            "   [144.75 138.75 152.75]\n",
            "   [137.   131.   145.  ]\n",
            "   [136.   130.   144.  ]]]\n",
            "\n",
            "\n",
            " ...\n",
            "\n",
            "\n",
            " [[[165.25 172.25 191.25]\n",
            "   [169.   176.   195.  ]\n",
            "   [165.5  172.5  191.5 ]\n",
            "   ...\n",
            "   [137.5  138.5  158.5 ]\n",
            "   [135.25 136.25 156.25]\n",
            "   [146.25 147.25 167.25]]\n",
            "\n",
            "  [[163.5  170.5  189.5 ]\n",
            "   [168.25 175.25 194.25]\n",
            "   [159.25 166.25 185.25]\n",
            "   ...\n",
            "   [134.75 135.75 155.75]\n",
            "   [151.75 152.75 172.75]\n",
            "   [139.5  140.5  160.5 ]]\n",
            "\n",
            "  [[170.75 177.75 196.75]\n",
            "   [170.5  177.5  196.5 ]\n",
            "   [163.   170.   189.  ]\n",
            "   ...\n",
            "   [134.75 135.75 155.75]\n",
            "   [142.25 143.25 163.25]\n",
            "   [144.5  145.5  165.5 ]]\n",
            "\n",
            "  ...\n",
            "\n",
            "  [[123.   124.   145.  ]\n",
            "   [122.5  123.5  144.5 ]\n",
            "   [123.   124.   145.  ]\n",
            "   ...\n",
            "   [ 90.25  83.25  99.25]\n",
            "   [ 95.    88.   104.  ]\n",
            "   [115.25 108.25 124.25]]\n",
            "\n",
            "  [[120.   121.   142.  ]\n",
            "   [121.75 122.75 143.75]\n",
            "   [123.   124.   145.  ]\n",
            "   ...\n",
            "   [119.5  112.5  128.5 ]\n",
            "   [ 78.5   71.5   87.5 ]\n",
            "   [ 93.75  86.75 102.75]]\n",
            "\n",
            "  [[117.25 118.25 139.25]\n",
            "   [121.   122.   143.  ]\n",
            "   [123.   124.   145.  ]\n",
            "   ...\n",
            "   [124.5  117.5  133.5 ]\n",
            "   [113.75 106.75 122.75]\n",
            "   [126.25 119.25 135.25]]]\n",
            "\n",
            "\n",
            " [[[148.5  141.5  148.5 ]\n",
            "   [157.   150.   157.  ]\n",
            "   [149.75 142.75 149.75]\n",
            "   ...\n",
            "   [102.75  90.75  90.75]\n",
            "   [ 99.25  87.25  87.25]\n",
            "   [ 95.75  83.75  83.75]]\n",
            "\n",
            "  [[154.   147.   154.  ]\n",
            "   [165.   158.   165.  ]\n",
            "   [153.   146.   153.  ]\n",
            "   ...\n",
            "   [101.25  89.25  89.25]\n",
            "   [ 95.    83.    83.  ]\n",
            "   [ 95.75  83.75  83.75]]\n",
            "\n",
            "  [[150.75 143.75 150.75]\n",
            "   [144.25 137.25 144.25]\n",
            "   [155.   148.   155.  ]\n",
            "   ...\n",
            "   [105.75  93.75  93.75]\n",
            "   [ 97.25  85.25  85.25]\n",
            "   [103.    91.    91.  ]]\n",
            "\n",
            "  ...\n",
            "\n",
            "  [[196.   190.   194.  ]\n",
            "   [193.5  187.5  191.5 ]\n",
            "   [189.   183.   187.  ]\n",
            "   ...\n",
            "   [154.75 142.75 146.75]\n",
            "   [155.5  143.5  147.5 ]\n",
            "   [152.75 140.75 144.75]]\n",
            "\n",
            "  [[192.   186.   190.  ]\n",
            "   [193.75 187.75 191.75]\n",
            "   [192.   186.   190.  ]\n",
            "   ...\n",
            "   [149.   137.   141.  ]\n",
            "   [146.25 134.25 138.25]\n",
            "   [146.75 134.75 138.75]]\n",
            "\n",
            "  [[189.   183.   187.  ]\n",
            "   [194.   188.   192.  ]\n",
            "   [182.75 176.75 180.75]\n",
            "   ...\n",
            "   [147.5  135.5  139.5 ]\n",
            "   [148.5  136.5  140.5 ]\n",
            "   [135.75 123.75 127.75]]]\n",
            "\n",
            "\n",
            " [[[122.5  108.5  108.5 ]\n",
            "   [114.5  100.5  100.5 ]\n",
            "   [103.    89.    89.  ]\n",
            "   ...\n",
            "   [161.25 151.25 150.25]\n",
            "   [157.   147.   146.  ]\n",
            "   [154.25 144.25 143.25]]\n",
            "\n",
            "  [[110.75  96.75  96.75]\n",
            "   [118.25 104.25 104.25]\n",
            "   [ 96.5   82.5   82.5 ]\n",
            "   ...\n",
            "   [156.75 146.75 145.75]\n",
            "   [161.75 151.75 150.75]\n",
            "   [157.25 147.25 146.25]]\n",
            "\n",
            "  [[119.   105.   105.  ]\n",
            "   [111.75  97.75  97.75]\n",
            "   [121.25 107.25 107.25]\n",
            "   ...\n",
            "   [160.75 150.75 149.75]\n",
            "   [153.75 143.75 142.75]\n",
            "   [154.75 144.75 143.75]]\n",
            "\n",
            "  ...\n",
            "\n",
            "  [[122.   110.   120.  ]\n",
            "   [135.5  123.5  133.5 ]\n",
            "   [123.25 111.25 121.25]\n",
            "   ...\n",
            "   [145.   135.   144.  ]\n",
            "   [144.75 134.75 143.75]\n",
            "   [140.5  130.5  139.5 ]]\n",
            "\n",
            "  [[128.   116.   126.  ]\n",
            "   [125.75 113.75 123.75]\n",
            "   [134.5  122.5  132.5 ]\n",
            "   ...\n",
            "   [148.5  138.5  147.5 ]\n",
            "   [145.25 135.25 144.25]\n",
            "   [143.   133.   142.  ]]\n",
            "\n",
            "  [[117.75 105.75 115.75]\n",
            "   [135.   123.   133.  ]\n",
            "   [129.75 117.75 127.75]\n",
            "   ...\n",
            "   [149.5  139.5  148.5 ]\n",
            "   [144.75 134.75 143.75]\n",
            "   [143.5  133.5  142.5 ]]]], shape=(32, 128, 128, 3), dtype=float32) (32, 128, 128, 3)\n",
            "tf.Tensor(\n",
            "[[0. 0. 1. ... 0. 0. 0.]\n",
            " [0. 0. 0. ... 0. 0. 0.]\n",
            " [0. 0. 0. ... 0. 0. 0.]\n",
            " ...\n",
            " [0. 0. 0. ... 0. 0. 0.]\n",
            " [0. 0. 0. ... 0. 0. 0.]\n",
            " [0. 0. 0. ... 0. 0. 0.]], shape=(32, 32), dtype=float32) (32, 32)\n"
          ]
        }
      ],
      "source": [
        "for x,y in training_set:\n",
        "  print(x,x.shape)\n",
        "  print(y,y.shape)\n",
        "  break\n"
      ]
    },
    {
      "cell_type": "markdown",
      "metadata": {
        "id": "17BtCQ9LzEGR"
      },
      "source": [
        "## Validation Image Preprocessing\n"
      ]
    },
    {
      "cell_type": "code",
      "execution_count": null,
      "metadata": {
        "colab": {
          "base_uri": "https://localhost:8080/"
        },
        "id": "XiRh02IUzIuq",
        "outputId": "0cf7b1dd-fbab-4f40-8a46-c2fba2f77eaf"
      },
      "outputs": [
        {
          "name": "stdout",
          "output_type": "stream",
          "text": [
            "Found 14864 files belonging to 32 classes.\n"
          ]
        }
      ],
      "source": [
        "validation_set = tf.keras.utils.image_dataset_from_directory(\n",
        "    '/content/drive/MyDrive/ProjectData/valid',\n",
        "    labels=\"inferred\",\n",
        "    label_mode=\"categorical\",\n",
        "    class_names=None,\n",
        "    color_mode=\"rgb\",\n",
        "    batch_size=32,\n",
        "    image_size=(128, 128),\n",
        "    shuffle=True,\n",
        "    seed=None,\n",
        "    validation_split=None,\n",
        "    subset=None,\n",
        "    interpolation=\"bilinear\",\n",
        "    follow_links=False,\n",
        "    crop_to_aspect_ratio=False,\n",
        "    pad_to_aspect_ratio=False,\n",
        "    verbose=True,\n",
        ")"
      ]
    },
    {
      "cell_type": "markdown",
      "metadata": {
        "id": "M1Uwvno-D37a"
      },
      "source": [
        "## To avoid Overshooting\n",
        "1. Choose small learning rate default 0.001 we are taking 0.0001\n",
        "2. There may be chance of Underfitting, so incresase number of neuron\n",
        "3. Add more Convolutional layer to extract more feature from images there may  be possibility that the model uanle to captutre relevant feature or model is confusing due to lack of feature so feed with more feature"
      ]
    },
    {
      "cell_type": "markdown",
      "metadata": {
        "id": "J8_chZfm1Why"
      },
      "source": [
        "# Building Model"
      ]
    },
    {
      "cell_type": "code",
      "execution_count": null,
      "metadata": {
        "id": "Z0FIpU8R1ZVr"
      },
      "outputs": [],
      "source": [
        "from tensorflow.keras.layers import Dense,Conv2D,MaxPool2D,Flatten,Dropout\n",
        "from tensorflow.keras.models import Sequential"
      ]
    },
    {
      "cell_type": "code",
      "execution_count": null,
      "metadata": {
        "id": "2O-7uJEd1tgx"
      },
      "outputs": [],
      "source": [
        "model = Sequential()"
      ]
    },
    {
      "cell_type": "code",
      "execution_count": null,
      "metadata": {
        "colab": {
          "base_uri": "https://localhost:8080/"
        },
        "id": "ahH7Nnv51xZ7",
        "outputId": "7bb61042-7ced-45f1-cded-58bf960fa07f"
      },
      "outputs": [
        {
          "name": "stderr",
          "output_type": "stream",
          "text": [
            "/usr/local/lib/python3.11/dist-packages/keras/src/layers/convolutional/base_conv.py:107: UserWarning: Do not pass an `input_shape`/`input_dim` argument to a layer. When using Sequential models, prefer using an `Input(shape)` object as the first layer in the model instead.\n",
            "  super().__init__(activity_regularizer=activity_regularizer, **kwargs)\n"
          ]
        }
      ],
      "source": [
        "#Building Convolutional Layer\n",
        "model.add(Conv2D(filters=32, kernel_size=3, padding='same', activation='relu',input_shape=[128,128,3]))\n",
        "model.add(Conv2D(filters=32, kernel_size=3, activation='relu'))\n",
        "model.add(MaxPool2D(pool_size=2,strides=2))\n"
      ]
    },
    {
      "cell_type": "code",
      "execution_count": null,
      "metadata": {
        "id": "TB1o_LL328uk"
      },
      "outputs": [],
      "source": [
        "model.add(Conv2D(filters=64, kernel_size=3, padding='same', activation='relu'))\n",
        "model.add(Conv2D(filters=64, kernel_size=3, activation='relu'))\n",
        "model.add(MaxPool2D(pool_size=2,strides=2))\n"
      ]
    },
    {
      "cell_type": "code",
      "execution_count": null,
      "metadata": {
        "id": "1jO2JqHE3BXU"
      },
      "outputs": [],
      "source": [
        "model.add(Conv2D(filters=128, kernel_size=3, padding='same', activation='relu'))\n",
        "model.add(Conv2D(filters=128, kernel_size=3, activation='relu'))\n",
        "model.add(MaxPool2D(pool_size=2,strides=2))\n"
      ]
    },
    {
      "cell_type": "code",
      "execution_count": null,
      "metadata": {
        "collapsed": true,
        "id": "xYNk41ya3Ix4"
      },
      "outputs": [],
      "source": [
        "model.add(Conv2D(filters=256, kernel_size=3, padding='same', activation='relu'))\n",
        "model.add(Conv2D(filters=256, kernel_size=3, activation='relu'))\n",
        "model.add(MaxPool2D(pool_size=2,strides=2))"
      ]
    },
    {
      "cell_type": "code",
      "execution_count": null,
      "metadata": {
        "id": "GiXswo6RIt6c"
      },
      "outputs": [],
      "source": [
        "model.add(Conv2D(filters=512, kernel_size=3, padding='same', activation='relu'))\n",
        "model.add(Conv2D(filters=512, kernel_size=3, activation='relu'))\n",
        "model.add(MaxPool2D(pool_size=2,strides=2))"
      ]
    },
    {
      "cell_type": "code",
      "execution_count": null,
      "metadata": {
        "id": "vdjCsBiNJLfw"
      },
      "outputs": [],
      "source": [
        "model.add(Dropout(0.25))"
      ]
    },
    {
      "cell_type": "code",
      "execution_count": null,
      "metadata": {
        "id": "BGesuOch9o1i"
      },
      "outputs": [],
      "source": [
        "model.add(Flatten())"
      ]
    },
    {
      "cell_type": "code",
      "execution_count": null,
      "metadata": {
        "id": "U9Ox9yNK3SgW"
      },
      "outputs": [],
      "source": [
        "model.add(Dense(units=1500, activation='relu'))"
      ]
    },
    {
      "cell_type": "code",
      "execution_count": null,
      "metadata": {
        "id": "NNUMSTTfJUMH"
      },
      "outputs": [],
      "source": [
        "model.add(Dropout(0.4))"
      ]
    },
    {
      "cell_type": "code",
      "execution_count": null,
      "metadata": {
        "id": "Matu97TI84K8"
      },
      "outputs": [],
      "source": [
        "# Output layer\n",
        "model.add(Dense(units=32, activation='softmax'))"
      ]
    },
    {
      "cell_type": "markdown",
      "metadata": {
        "id": "6dttFyr59Ifz"
      },
      "source": [
        "#Compiling the model"
      ]
    },
    {
      "cell_type": "code",
      "execution_count": null,
      "metadata": {
        "id": "zAG_MC7H9HK7"
      },
      "outputs": [],
      "source": [
        "model.compile(optimizer=tf.keras.optimizers.Adam(\n",
        "    learning_rate=0.0001), loss='categorical_crossentropy',metrics=['accuracy'] )\n"
      ]
    },
    {
      "cell_type": "code",
      "execution_count": null,
      "metadata": {
        "colab": {
          "base_uri": "https://localhost:8080/",
          "height": 801
        },
        "id": "NtO-Sydr98aP",
        "outputId": "8f9dc466-dc6d-46c8-9f1e-01a712cbb483"
      },
      "outputs": [
        {
          "data": {
            "text/html": [
              "<pre style=\"white-space:pre;overflow-x:auto;line-height:normal;font-family:Menlo,'DejaVu Sans Mono',consolas,'Courier New',monospace\"><span style=\"font-weight: bold\">Model: \"sequential\"</span>\n",
              "</pre>\n"
            ],
            "text/plain": [
              "\u001b[1mModel: \"sequential\"\u001b[0m\n"
            ]
          },
          "metadata": {},
          "output_type": "display_data"
        },
        {
          "data": {
            "text/html": [
              "<pre style=\"white-space:pre;overflow-x:auto;line-height:normal;font-family:Menlo,'DejaVu Sans Mono',consolas,'Courier New',monospace\">┏━━━━━━━━━━━━━━━━━━━━━━━━━━━━━━━━━┳━━━━━━━━━━━━━━━━━━━━━━━━┳━━━━━━━━━━━━━━━┓\n",
              "┃<span style=\"font-weight: bold\"> Layer (type)                    </span>┃<span style=\"font-weight: bold\"> Output Shape           </span>┃<span style=\"font-weight: bold\">       Param # </span>┃\n",
              "┡━━━━━━━━━━━━━━━━━━━━━━━━━━━━━━━━━╇━━━━━━━━━━━━━━━━━━━━━━━━╇━━━━━━━━━━━━━━━┩\n",
              "│ conv2d (<span style=\"color: #0087ff; text-decoration-color: #0087ff\">Conv2D</span>)                 │ (<span style=\"color: #00d7ff; text-decoration-color: #00d7ff\">None</span>, <span style=\"color: #00af00; text-decoration-color: #00af00\">128</span>, <span style=\"color: #00af00; text-decoration-color: #00af00\">128</span>, <span style=\"color: #00af00; text-decoration-color: #00af00\">32</span>)   │           <span style=\"color: #00af00; text-decoration-color: #00af00\">896</span> │\n",
              "├─────────────────────────────────┼────────────────────────┼───────────────┤\n",
              "│ conv2d_1 (<span style=\"color: #0087ff; text-decoration-color: #0087ff\">Conv2D</span>)               │ (<span style=\"color: #00d7ff; text-decoration-color: #00d7ff\">None</span>, <span style=\"color: #00af00; text-decoration-color: #00af00\">126</span>, <span style=\"color: #00af00; text-decoration-color: #00af00\">126</span>, <span style=\"color: #00af00; text-decoration-color: #00af00\">32</span>)   │         <span style=\"color: #00af00; text-decoration-color: #00af00\">9,248</span> │\n",
              "├─────────────────────────────────┼────────────────────────┼───────────────┤\n",
              "│ max_pooling2d (<span style=\"color: #0087ff; text-decoration-color: #0087ff\">MaxPooling2D</span>)    │ (<span style=\"color: #00d7ff; text-decoration-color: #00d7ff\">None</span>, <span style=\"color: #00af00; text-decoration-color: #00af00\">63</span>, <span style=\"color: #00af00; text-decoration-color: #00af00\">63</span>, <span style=\"color: #00af00; text-decoration-color: #00af00\">32</span>)     │             <span style=\"color: #00af00; text-decoration-color: #00af00\">0</span> │\n",
              "├─────────────────────────────────┼────────────────────────┼───────────────┤\n",
              "│ conv2d_2 (<span style=\"color: #0087ff; text-decoration-color: #0087ff\">Conv2D</span>)               │ (<span style=\"color: #00d7ff; text-decoration-color: #00d7ff\">None</span>, <span style=\"color: #00af00; text-decoration-color: #00af00\">63</span>, <span style=\"color: #00af00; text-decoration-color: #00af00\">63</span>, <span style=\"color: #00af00; text-decoration-color: #00af00\">64</span>)     │        <span style=\"color: #00af00; text-decoration-color: #00af00\">18,496</span> │\n",
              "├─────────────────────────────────┼────────────────────────┼───────────────┤\n",
              "│ conv2d_3 (<span style=\"color: #0087ff; text-decoration-color: #0087ff\">Conv2D</span>)               │ (<span style=\"color: #00d7ff; text-decoration-color: #00d7ff\">None</span>, <span style=\"color: #00af00; text-decoration-color: #00af00\">61</span>, <span style=\"color: #00af00; text-decoration-color: #00af00\">61</span>, <span style=\"color: #00af00; text-decoration-color: #00af00\">64</span>)     │        <span style=\"color: #00af00; text-decoration-color: #00af00\">36,928</span> │\n",
              "├─────────────────────────────────┼────────────────────────┼───────────────┤\n",
              "│ max_pooling2d_1 (<span style=\"color: #0087ff; text-decoration-color: #0087ff\">MaxPooling2D</span>)  │ (<span style=\"color: #00d7ff; text-decoration-color: #00d7ff\">None</span>, <span style=\"color: #00af00; text-decoration-color: #00af00\">30</span>, <span style=\"color: #00af00; text-decoration-color: #00af00\">30</span>, <span style=\"color: #00af00; text-decoration-color: #00af00\">64</span>)     │             <span style=\"color: #00af00; text-decoration-color: #00af00\">0</span> │\n",
              "├─────────────────────────────────┼────────────────────────┼───────────────┤\n",
              "│ conv2d_4 (<span style=\"color: #0087ff; text-decoration-color: #0087ff\">Conv2D</span>)               │ (<span style=\"color: #00d7ff; text-decoration-color: #00d7ff\">None</span>, <span style=\"color: #00af00; text-decoration-color: #00af00\">30</span>, <span style=\"color: #00af00; text-decoration-color: #00af00\">30</span>, <span style=\"color: #00af00; text-decoration-color: #00af00\">128</span>)    │        <span style=\"color: #00af00; text-decoration-color: #00af00\">73,856</span> │\n",
              "├─────────────────────────────────┼────────────────────────┼───────────────┤\n",
              "│ conv2d_5 (<span style=\"color: #0087ff; text-decoration-color: #0087ff\">Conv2D</span>)               │ (<span style=\"color: #00d7ff; text-decoration-color: #00d7ff\">None</span>, <span style=\"color: #00af00; text-decoration-color: #00af00\">28</span>, <span style=\"color: #00af00; text-decoration-color: #00af00\">28</span>, <span style=\"color: #00af00; text-decoration-color: #00af00\">128</span>)    │       <span style=\"color: #00af00; text-decoration-color: #00af00\">147,584</span> │\n",
              "├─────────────────────────────────┼────────────────────────┼───────────────┤\n",
              "│ max_pooling2d_2 (<span style=\"color: #0087ff; text-decoration-color: #0087ff\">MaxPooling2D</span>)  │ (<span style=\"color: #00d7ff; text-decoration-color: #00d7ff\">None</span>, <span style=\"color: #00af00; text-decoration-color: #00af00\">14</span>, <span style=\"color: #00af00; text-decoration-color: #00af00\">14</span>, <span style=\"color: #00af00; text-decoration-color: #00af00\">128</span>)    │             <span style=\"color: #00af00; text-decoration-color: #00af00\">0</span> │\n",
              "├─────────────────────────────────┼────────────────────────┼───────────────┤\n",
              "│ conv2d_6 (<span style=\"color: #0087ff; text-decoration-color: #0087ff\">Conv2D</span>)               │ (<span style=\"color: #00d7ff; text-decoration-color: #00d7ff\">None</span>, <span style=\"color: #00af00; text-decoration-color: #00af00\">14</span>, <span style=\"color: #00af00; text-decoration-color: #00af00\">14</span>, <span style=\"color: #00af00; text-decoration-color: #00af00\">256</span>)    │       <span style=\"color: #00af00; text-decoration-color: #00af00\">295,168</span> │\n",
              "├─────────────────────────────────┼────────────────────────┼───────────────┤\n",
              "│ conv2d_7 (<span style=\"color: #0087ff; text-decoration-color: #0087ff\">Conv2D</span>)               │ (<span style=\"color: #00d7ff; text-decoration-color: #00d7ff\">None</span>, <span style=\"color: #00af00; text-decoration-color: #00af00\">12</span>, <span style=\"color: #00af00; text-decoration-color: #00af00\">12</span>, <span style=\"color: #00af00; text-decoration-color: #00af00\">256</span>)    │       <span style=\"color: #00af00; text-decoration-color: #00af00\">590,080</span> │\n",
              "├─────────────────────────────────┼────────────────────────┼───────────────┤\n",
              "│ max_pooling2d_3 (<span style=\"color: #0087ff; text-decoration-color: #0087ff\">MaxPooling2D</span>)  │ (<span style=\"color: #00d7ff; text-decoration-color: #00d7ff\">None</span>, <span style=\"color: #00af00; text-decoration-color: #00af00\">6</span>, <span style=\"color: #00af00; text-decoration-color: #00af00\">6</span>, <span style=\"color: #00af00; text-decoration-color: #00af00\">256</span>)      │             <span style=\"color: #00af00; text-decoration-color: #00af00\">0</span> │\n",
              "├─────────────────────────────────┼────────────────────────┼───────────────┤\n",
              "│ conv2d_8 (<span style=\"color: #0087ff; text-decoration-color: #0087ff\">Conv2D</span>)               │ (<span style=\"color: #00d7ff; text-decoration-color: #00d7ff\">None</span>, <span style=\"color: #00af00; text-decoration-color: #00af00\">6</span>, <span style=\"color: #00af00; text-decoration-color: #00af00\">6</span>, <span style=\"color: #00af00; text-decoration-color: #00af00\">512</span>)      │     <span style=\"color: #00af00; text-decoration-color: #00af00\">1,180,160</span> │\n",
              "├─────────────────────────────────┼────────────────────────┼───────────────┤\n",
              "│ conv2d_9 (<span style=\"color: #0087ff; text-decoration-color: #0087ff\">Conv2D</span>)               │ (<span style=\"color: #00d7ff; text-decoration-color: #00d7ff\">None</span>, <span style=\"color: #00af00; text-decoration-color: #00af00\">4</span>, <span style=\"color: #00af00; text-decoration-color: #00af00\">4</span>, <span style=\"color: #00af00; text-decoration-color: #00af00\">512</span>)      │     <span style=\"color: #00af00; text-decoration-color: #00af00\">2,359,808</span> │\n",
              "├─────────────────────────────────┼────────────────────────┼───────────────┤\n",
              "│ max_pooling2d_4 (<span style=\"color: #0087ff; text-decoration-color: #0087ff\">MaxPooling2D</span>)  │ (<span style=\"color: #00d7ff; text-decoration-color: #00d7ff\">None</span>, <span style=\"color: #00af00; text-decoration-color: #00af00\">2</span>, <span style=\"color: #00af00; text-decoration-color: #00af00\">2</span>, <span style=\"color: #00af00; text-decoration-color: #00af00\">512</span>)      │             <span style=\"color: #00af00; text-decoration-color: #00af00\">0</span> │\n",
              "├─────────────────────────────────┼────────────────────────┼───────────────┤\n",
              "│ dropout (<span style=\"color: #0087ff; text-decoration-color: #0087ff\">Dropout</span>)               │ (<span style=\"color: #00d7ff; text-decoration-color: #00d7ff\">None</span>, <span style=\"color: #00af00; text-decoration-color: #00af00\">2</span>, <span style=\"color: #00af00; text-decoration-color: #00af00\">2</span>, <span style=\"color: #00af00; text-decoration-color: #00af00\">512</span>)      │             <span style=\"color: #00af00; text-decoration-color: #00af00\">0</span> │\n",
              "├─────────────────────────────────┼────────────────────────┼───────────────┤\n",
              "│ flatten (<span style=\"color: #0087ff; text-decoration-color: #0087ff\">Flatten</span>)               │ (<span style=\"color: #00d7ff; text-decoration-color: #00d7ff\">None</span>, <span style=\"color: #00af00; text-decoration-color: #00af00\">2048</span>)           │             <span style=\"color: #00af00; text-decoration-color: #00af00\">0</span> │\n",
              "├─────────────────────────────────┼────────────────────────┼───────────────┤\n",
              "│ dense (<span style=\"color: #0087ff; text-decoration-color: #0087ff\">Dense</span>)                   │ (<span style=\"color: #00d7ff; text-decoration-color: #00d7ff\">None</span>, <span style=\"color: #00af00; text-decoration-color: #00af00\">1500</span>)           │     <span style=\"color: #00af00; text-decoration-color: #00af00\">3,073,500</span> │\n",
              "├─────────────────────────────────┼────────────────────────┼───────────────┤\n",
              "│ dropout_1 (<span style=\"color: #0087ff; text-decoration-color: #0087ff\">Dropout</span>)             │ (<span style=\"color: #00d7ff; text-decoration-color: #00d7ff\">None</span>, <span style=\"color: #00af00; text-decoration-color: #00af00\">1500</span>)           │             <span style=\"color: #00af00; text-decoration-color: #00af00\">0</span> │\n",
              "├─────────────────────────────────┼────────────────────────┼───────────────┤\n",
              "│ dense_1 (<span style=\"color: #0087ff; text-decoration-color: #0087ff\">Dense</span>)                 │ (<span style=\"color: #00d7ff; text-decoration-color: #00d7ff\">None</span>, <span style=\"color: #00af00; text-decoration-color: #00af00\">38</span>)             │        <span style=\"color: #00af00; text-decoration-color: #00af00\">57,038</span> │\n",
              "├─────────────────────────────────┼────────────────────────┼───────────────┤\n",
              "│ dense_2 (<span style=\"color: #0087ff; text-decoration-color: #0087ff\">Dense</span>)                 │ (<span style=\"color: #00d7ff; text-decoration-color: #00d7ff\">None</span>, <span style=\"color: #00af00; text-decoration-color: #00af00\">32</span>)             │         <span style=\"color: #00af00; text-decoration-color: #00af00\">1,248</span> │\n",
              "└─────────────────────────────────┴────────────────────────┴───────────────┘\n",
              "</pre>\n"
            ],
            "text/plain": [
              "┏━━━━━━━━━━━━━━━━━━━━━━━━━━━━━━━━━┳━━━━━━━━━━━━━━━━━━━━━━━━┳━━━━━━━━━━━━━━━┓\n",
              "┃\u001b[1m \u001b[0m\u001b[1mLayer (type)                   \u001b[0m\u001b[1m \u001b[0m┃\u001b[1m \u001b[0m\u001b[1mOutput Shape          \u001b[0m\u001b[1m \u001b[0m┃\u001b[1m \u001b[0m\u001b[1m      Param #\u001b[0m\u001b[1m \u001b[0m┃\n",
              "┡━━━━━━━━━━━━━━━━━━━━━━━━━━━━━━━━━╇━━━━━━━━━━━━━━━━━━━━━━━━╇━━━━━━━━━━━━━━━┩\n",
              "│ conv2d (\u001b[38;5;33mConv2D\u001b[0m)                 │ (\u001b[38;5;45mNone\u001b[0m, \u001b[38;5;34m128\u001b[0m, \u001b[38;5;34m128\u001b[0m, \u001b[38;5;34m32\u001b[0m)   │           \u001b[38;5;34m896\u001b[0m │\n",
              "├─────────────────────────────────┼────────────────────────┼───────────────┤\n",
              "│ conv2d_1 (\u001b[38;5;33mConv2D\u001b[0m)               │ (\u001b[38;5;45mNone\u001b[0m, \u001b[38;5;34m126\u001b[0m, \u001b[38;5;34m126\u001b[0m, \u001b[38;5;34m32\u001b[0m)   │         \u001b[38;5;34m9,248\u001b[0m │\n",
              "├─────────────────────────────────┼────────────────────────┼───────────────┤\n",
              "│ max_pooling2d (\u001b[38;5;33mMaxPooling2D\u001b[0m)    │ (\u001b[38;5;45mNone\u001b[0m, \u001b[38;5;34m63\u001b[0m, \u001b[38;5;34m63\u001b[0m, \u001b[38;5;34m32\u001b[0m)     │             \u001b[38;5;34m0\u001b[0m │\n",
              "├─────────────────────────────────┼────────────────────────┼───────────────┤\n",
              "│ conv2d_2 (\u001b[38;5;33mConv2D\u001b[0m)               │ (\u001b[38;5;45mNone\u001b[0m, \u001b[38;5;34m63\u001b[0m, \u001b[38;5;34m63\u001b[0m, \u001b[38;5;34m64\u001b[0m)     │        \u001b[38;5;34m18,496\u001b[0m │\n",
              "├─────────────────────────────────┼────────────────────────┼───────────────┤\n",
              "│ conv2d_3 (\u001b[38;5;33mConv2D\u001b[0m)               │ (\u001b[38;5;45mNone\u001b[0m, \u001b[38;5;34m61\u001b[0m, \u001b[38;5;34m61\u001b[0m, \u001b[38;5;34m64\u001b[0m)     │        \u001b[38;5;34m36,928\u001b[0m │\n",
              "├─────────────────────────────────┼────────────────────────┼───────────────┤\n",
              "│ max_pooling2d_1 (\u001b[38;5;33mMaxPooling2D\u001b[0m)  │ (\u001b[38;5;45mNone\u001b[0m, \u001b[38;5;34m30\u001b[0m, \u001b[38;5;34m30\u001b[0m, \u001b[38;5;34m64\u001b[0m)     │             \u001b[38;5;34m0\u001b[0m │\n",
              "├─────────────────────────────────┼────────────────────────┼───────────────┤\n",
              "│ conv2d_4 (\u001b[38;5;33mConv2D\u001b[0m)               │ (\u001b[38;5;45mNone\u001b[0m, \u001b[38;5;34m30\u001b[0m, \u001b[38;5;34m30\u001b[0m, \u001b[38;5;34m128\u001b[0m)    │        \u001b[38;5;34m73,856\u001b[0m │\n",
              "├─────────────────────────────────┼────────────────────────┼───────────────┤\n",
              "│ conv2d_5 (\u001b[38;5;33mConv2D\u001b[0m)               │ (\u001b[38;5;45mNone\u001b[0m, \u001b[38;5;34m28\u001b[0m, \u001b[38;5;34m28\u001b[0m, \u001b[38;5;34m128\u001b[0m)    │       \u001b[38;5;34m147,584\u001b[0m │\n",
              "├─────────────────────────────────┼────────────────────────┼───────────────┤\n",
              "│ max_pooling2d_2 (\u001b[38;5;33mMaxPooling2D\u001b[0m)  │ (\u001b[38;5;45mNone\u001b[0m, \u001b[38;5;34m14\u001b[0m, \u001b[38;5;34m14\u001b[0m, \u001b[38;5;34m128\u001b[0m)    │             \u001b[38;5;34m0\u001b[0m │\n",
              "├─────────────────────────────────┼────────────────────────┼───────────────┤\n",
              "│ conv2d_6 (\u001b[38;5;33mConv2D\u001b[0m)               │ (\u001b[38;5;45mNone\u001b[0m, \u001b[38;5;34m14\u001b[0m, \u001b[38;5;34m14\u001b[0m, \u001b[38;5;34m256\u001b[0m)    │       \u001b[38;5;34m295,168\u001b[0m │\n",
              "├─────────────────────────────────┼────────────────────────┼───────────────┤\n",
              "│ conv2d_7 (\u001b[38;5;33mConv2D\u001b[0m)               │ (\u001b[38;5;45mNone\u001b[0m, \u001b[38;5;34m12\u001b[0m, \u001b[38;5;34m12\u001b[0m, \u001b[38;5;34m256\u001b[0m)    │       \u001b[38;5;34m590,080\u001b[0m │\n",
              "├─────────────────────────────────┼────────────────────────┼───────────────┤\n",
              "│ max_pooling2d_3 (\u001b[38;5;33mMaxPooling2D\u001b[0m)  │ (\u001b[38;5;45mNone\u001b[0m, \u001b[38;5;34m6\u001b[0m, \u001b[38;5;34m6\u001b[0m, \u001b[38;5;34m256\u001b[0m)      │             \u001b[38;5;34m0\u001b[0m │\n",
              "├─────────────────────────────────┼────────────────────────┼───────────────┤\n",
              "│ conv2d_8 (\u001b[38;5;33mConv2D\u001b[0m)               │ (\u001b[38;5;45mNone\u001b[0m, \u001b[38;5;34m6\u001b[0m, \u001b[38;5;34m6\u001b[0m, \u001b[38;5;34m512\u001b[0m)      │     \u001b[38;5;34m1,180,160\u001b[0m │\n",
              "├─────────────────────────────────┼────────────────────────┼───────────────┤\n",
              "│ conv2d_9 (\u001b[38;5;33mConv2D\u001b[0m)               │ (\u001b[38;5;45mNone\u001b[0m, \u001b[38;5;34m4\u001b[0m, \u001b[38;5;34m4\u001b[0m, \u001b[38;5;34m512\u001b[0m)      │     \u001b[38;5;34m2,359,808\u001b[0m │\n",
              "├─────────────────────────────────┼────────────────────────┼───────────────┤\n",
              "│ max_pooling2d_4 (\u001b[38;5;33mMaxPooling2D\u001b[0m)  │ (\u001b[38;5;45mNone\u001b[0m, \u001b[38;5;34m2\u001b[0m, \u001b[38;5;34m2\u001b[0m, \u001b[38;5;34m512\u001b[0m)      │             \u001b[38;5;34m0\u001b[0m │\n",
              "├─────────────────────────────────┼────────────────────────┼───────────────┤\n",
              "│ dropout (\u001b[38;5;33mDropout\u001b[0m)               │ (\u001b[38;5;45mNone\u001b[0m, \u001b[38;5;34m2\u001b[0m, \u001b[38;5;34m2\u001b[0m, \u001b[38;5;34m512\u001b[0m)      │             \u001b[38;5;34m0\u001b[0m │\n",
              "├─────────────────────────────────┼────────────────────────┼───────────────┤\n",
              "│ flatten (\u001b[38;5;33mFlatten\u001b[0m)               │ (\u001b[38;5;45mNone\u001b[0m, \u001b[38;5;34m2048\u001b[0m)           │             \u001b[38;5;34m0\u001b[0m │\n",
              "├─────────────────────────────────┼────────────────────────┼───────────────┤\n",
              "│ dense (\u001b[38;5;33mDense\u001b[0m)                   │ (\u001b[38;5;45mNone\u001b[0m, \u001b[38;5;34m1500\u001b[0m)           │     \u001b[38;5;34m3,073,500\u001b[0m │\n",
              "├─────────────────────────────────┼────────────────────────┼───────────────┤\n",
              "│ dropout_1 (\u001b[38;5;33mDropout\u001b[0m)             │ (\u001b[38;5;45mNone\u001b[0m, \u001b[38;5;34m1500\u001b[0m)           │             \u001b[38;5;34m0\u001b[0m │\n",
              "├─────────────────────────────────┼────────────────────────┼───────────────┤\n",
              "│ dense_1 (\u001b[38;5;33mDense\u001b[0m)                 │ (\u001b[38;5;45mNone\u001b[0m, \u001b[38;5;34m38\u001b[0m)             │        \u001b[38;5;34m57,038\u001b[0m │\n",
              "├─────────────────────────────────┼────────────────────────┼───────────────┤\n",
              "│ dense_2 (\u001b[38;5;33mDense\u001b[0m)                 │ (\u001b[38;5;45mNone\u001b[0m, \u001b[38;5;34m32\u001b[0m)             │         \u001b[38;5;34m1,248\u001b[0m │\n",
              "└─────────────────────────────────┴────────────────────────┴───────────────┘\n"
            ]
          },
          "metadata": {},
          "output_type": "display_data"
        },
        {
          "data": {
            "text/html": [
              "<pre style=\"white-space:pre;overflow-x:auto;line-height:normal;font-family:Menlo,'DejaVu Sans Mono',consolas,'Courier New',monospace\"><span style=\"font-weight: bold\"> Total params: </span><span style=\"color: #00af00; text-decoration-color: #00af00\">7,844,010</span> (29.92 MB)\n",
              "</pre>\n"
            ],
            "text/plain": [
              "\u001b[1m Total params: \u001b[0m\u001b[38;5;34m7,844,010\u001b[0m (29.92 MB)\n"
            ]
          },
          "metadata": {},
          "output_type": "display_data"
        },
        {
          "data": {
            "text/html": [
              "<pre style=\"white-space:pre;overflow-x:auto;line-height:normal;font-family:Menlo,'DejaVu Sans Mono',consolas,'Courier New',monospace\"><span style=\"font-weight: bold\"> Trainable params: </span><span style=\"color: #00af00; text-decoration-color: #00af00\">7,844,010</span> (29.92 MB)\n",
              "</pre>\n"
            ],
            "text/plain": [
              "\u001b[1m Trainable params: \u001b[0m\u001b[38;5;34m7,844,010\u001b[0m (29.92 MB)\n"
            ]
          },
          "metadata": {},
          "output_type": "display_data"
        },
        {
          "data": {
            "text/html": [
              "<pre style=\"white-space:pre;overflow-x:auto;line-height:normal;font-family:Menlo,'DejaVu Sans Mono',consolas,'Courier New',monospace\"><span style=\"font-weight: bold\"> Non-trainable params: </span><span style=\"color: #00af00; text-decoration-color: #00af00\">0</span> (0.00 B)\n",
              "</pre>\n"
            ],
            "text/plain": [
              "\u001b[1m Non-trainable params: \u001b[0m\u001b[38;5;34m0\u001b[0m (0.00 B)\n"
            ]
          },
          "metadata": {},
          "output_type": "display_data"
        }
      ],
      "source": [
        "model.summary()"
      ]
    },
    {
      "cell_type": "markdown",
      "metadata": {
        "id": "gltEU-Di_AhY"
      },
      "source": [
        "#Model Training"
      ]
    },
    {
      "cell_type": "code",
      "execution_count": null,
      "metadata": {
        "colab": {
          "base_uri": "https://localhost:8080/"
        },
        "id": "4xQTdDRTSKQ4",
        "outputId": "f6617245-73ff-4318-f84b-a45e16a7ef0d"
      },
      "outputs": [
        {
          "name": "stdout",
          "output_type": "stream",
          "text": [
            "Sat Jul 12 09:39:25 2025       \n",
            "+-----------------------------------------------------------------------------------------+\n",
            "| NVIDIA-SMI 550.54.15              Driver Version: 550.54.15      CUDA Version: 12.4     |\n",
            "|-----------------------------------------+------------------------+----------------------+\n",
            "| GPU  Name                 Persistence-M | Bus-Id          Disp.A | Volatile Uncorr. ECC |\n",
            "| Fan  Temp   Perf          Pwr:Usage/Cap |           Memory-Usage | GPU-Util  Compute M. |\n",
            "|                                         |                        |               MIG M. |\n",
            "|=========================================+========================+======================|\n",
            "|   0  Tesla T4                       Off |   00000000:00:04.0 Off |                    0 |\n",
            "| N/A   72C    P0             30W /   70W |     230MiB /  15360MiB |      0%      Default |\n",
            "|                                         |                        |                  N/A |\n",
            "+-----------------------------------------+------------------------+----------------------+\n",
            "                                                                                         \n",
            "+-----------------------------------------------------------------------------------------+\n",
            "| Processes:                                                                              |\n",
            "|  GPU   GI   CI        PID   Type   Process name                              GPU Memory |\n",
            "|        ID   ID                                                               Usage      |\n",
            "|=========================================================================================|\n",
            "+-----------------------------------------------------------------------------------------+\n"
          ]
        }
      ],
      "source": [
        "!nvidia-smi\n"
      ]
    },
    {
      "cell_type": "code",
      "execution_count": null,
      "metadata": {
        "colab": {
          "background_save": true,
          "base_uri": "https://localhost:8080/"
        },
        "collapsed": true,
        "id": "7vPuojdw_C95",
        "outputId": "661f84d8-c2b8-4af9-fbf7-fb363e2066b3"
      },
      "outputs": [
        {
          "name": "stdout",
          "output_type": "stream",
          "text": [
            "Epoch 1/9\n",
            "\u001b[1m1826/1826\u001b[0m \u001b[32m━━━━━━━━━━━━━━━━━━━━\u001b[0m\u001b[37m\u001b[0m \u001b[1m13933s\u001b[0m 8s/step - accuracy: 0.0336 - loss: 3.4780 - val_accuracy: 0.0338 - val_loss: 3.4712\n",
            "Epoch 2/9\n",
            "\u001b[1m1826/1826\u001b[0m \u001b[32m━━━━━━━━━━━━━━━━━━━━\u001b[0m\u001b[37m\u001b[0m \u001b[1m219s\u001b[0m 115ms/step - accuracy: 0.0348 - loss: 3.4677 - val_accuracy: 0.0338 - val_loss: 3.4681\n",
            "Epoch 3/9\n",
            "\u001b[1m1826/1826\u001b[0m \u001b[32m━━━━━━━━━━━━━━━━━━━━\u001b[0m\u001b[37m\u001b[0m \u001b[1m205s\u001b[0m 112ms/step - accuracy: 0.0349 - loss: 3.4622 - val_accuracy: 0.0338 - val_loss: 3.4675\n",
            "Epoch 4/9\n",
            "\u001b[1m 487/1826\u001b[0m \u001b[32m━━━━━\u001b[0m\u001b[37m━━━━━━━━━━━━━━━\u001b[0m \u001b[1m1:58\u001b[0m 88ms/step - accuracy: 0.0341 - loss: 3.4596"
          ]
        }
      ],
      "source": [
        "training_history = model.fit(x=training_set, validation_data=validation_set, epochs=9\n",
        "                             )"
      ]
    },
    {
      "cell_type": "markdown",
      "metadata": {
        "id": "7ahjJlRmMxX3"
      },
      "source": [
        "## Model Evaluation"
      ]
    },
    {
      "cell_type": "code",
      "execution_count": null,
      "metadata": {
        "id": "gBgYwBnNko1w"
      },
      "outputs": [],
      "source": [
        "# Model Evaluation on Training Set\n",
        "train_loss, train_acc = model.evaluate(training_set)"
      ]
    },
    {
      "cell_type": "code",
      "execution_count": null,
      "metadata": {
        "id": "iUbkBDN_NFJD"
      },
      "outputs": [],
      "source": [
        "print(train_loss, train_acc)"
      ]
    },
    {
      "cell_type": "code",
      "execution_count": null,
      "metadata": {
        "id": "Y19gZe4YNIc3"
      },
      "outputs": [],
      "source": [
        "# Model validation Set\n",
        "val_loss, val_acc = model.evaluate(validation_set)"
      ]
    },
    {
      "cell_type": "markdown",
      "metadata": {
        "id": "AY36aHajNYky"
      },
      "source": [
        "# Saving model"
      ]
    },
    {
      "cell_type": "code",
      "execution_count": null,
      "metadata": {
        "id": "B_WcX4-HJh9E"
      },
      "outputs": [],
      "source": [
        "model.save(\"trained_model.h5\")"
      ]
    },
    {
      "cell_type": "code",
      "execution_count": null,
      "metadata": {
        "id": "TKewHvI5Nash"
      },
      "outputs": [],
      "source": [
        "# To save this file we have used 'keras' format as it compresses the file size whereas '.h5' format takes up more file size\n",
        "model.save(\"trained_model.keras\")\n"
      ]
    },
    {
      "cell_type": "code",
      "execution_count": null,
      "metadata": {
        "id": "9-3S818bOI7n"
      },
      "outputs": [],
      "source": [
        "training_history.history\n",
        "# validation accuracy tara validation garesi garne\n",
        "#training_history.history(val_accuracy)"
      ]
    },
    {
      "cell_type": "markdown",
      "metadata": {
        "id": "hFxKWUGgOgyP"
      },
      "source": []
    },
    {
      "cell_type": "code",
      "execution_count": null,
      "metadata": {
        "id": "w6bbM4yWOYAL"
      },
      "outputs": [],
      "source": [
        "# Recording the histroy in json\n",
        "# We have saved this training history in 'json' for future use of the data or perform data visualization as we can just read this history\n",
        "# Also for the future use of the this model as we cannot run the model again and again if we need it for future\n",
        "import json\n",
        "with open(\"training_hist.json\",\"w\") as f:\n",
        "  json.dump(training_history.history,f);"
      ]
    },
    {
      "cell_type": "markdown",
      "metadata": {
        "id": "unhR9me3PAEF"
      },
      "source": [
        "# Accuracy Visualization"
      ]
    },
    {
      "cell_type": "code",
      "execution_count": null,
      "metadata": {
        "id": "GY_Xnj26PC_I"
      },
      "outputs": [],
      "source": [
        "epochs = { i for in range(1,1)}\n",
        "epochs"
      ]
    },
    {
      "cell_type": "code",
      "execution_count": null,
      "metadata": {
        "id": "G8-pDNvXPLYh"
      },
      "outputs": [],
      "source": [
        "epochs = { i for in range(1,1)}\n",
        "plt.plot(epochs, training_history.history ['accuracy'], color= 'red', label='Training Accuracy')\n",
        "plt.plot(epochs, training_history.history ['val_accuracy'], color= 'blue', label='Vlaidation Accuracy')\n",
        "plt.xlabel(\"No. of epochs\")\n",
        "plt.ylabel(\"Accuracy Result\")\n",
        "plt.title(\"Visualization Accuracy Result\")\n",
        "plt.legend()\n",
        "plt.show()"
      ]
    },
    {
      "cell_type": "markdown",
      "metadata": {
        "id": "XOFKJpQZ_yIq"
      },
      "source": [
        "# Some other matrices for model evaluation"
      ]
    },
    {
      "cell_type": "markdown",
      "metadata": {
        "id": "UKOgl5oZ_xEu"
      },
      "source": []
    },
    {
      "cell_type": "code",
      "execution_count": null,
      "metadata": {
        "id": "M2X3tw9tFYXK"
      },
      "outputs": [],
      "source": [
        "  class_name = validation_set.class_names\n",
        "  class_name"
      ]
    },
    {
      "cell_type": "code",
      "execution_count": null,
      "metadata": {
        "id": "5WweBkMPAcjf"
      },
      "outputs": [],
      "source": [
        "test_set = tf.keras.utils.image_dataset_from_directory(\n",
        "    '/content/drive/MyDrive/ProjectData/valid',\n",
        "    labels=\"inferred\",\n",
        "    label_mode=\"categorical\",\n",
        "    class_names=None,\n",
        "    color_mode=\"rgb\",\n",
        "    batch_size=32,\n",
        "    image_size=(128, 128),\n",
        "    shuffle=False,# Setting shuffle as False for the testing passes the folders from validation folder sequentially from starting to bottom\n",
        "    seed=None,\n",
        "    validation_split=None,\n",
        "    subset=None,\n",
        "    interpolation=\"bilinear\",\n",
        "    follow_links=False,\n",
        "    crop_to_aspect_ratio=False,\n",
        "    pad_to_aspect_ratio=False,\n",
        "    verbose=True,\n",
        ")"
      ]
    },
    {
      "cell_type": "code",
      "execution_count": null,
      "metadata": {
        "id": "aiKx4ucwBqbs"
      },
      "outputs": [],
      "source": [
        "y_pred = model.prediction(test_set)\n",
        "y_pred,y_pred.shape"
      ]
    },
    {
      "cell_type": "code",
      "execution_count": null,
      "metadata": {
        "id": "zxkvoBEzB4Fn"
      },
      "outputs": [],
      "source": [
        "predicted_categories = tf.argmax(y_pred,axis=1) # this goes to inside y_pred and extract the maximum value and return the index of that max value and axis=1 means it return the index in column wise"
      ]
    },
    {
      "cell_type": "code",
      "execution_count": null,
      "metadata": {
        "id": "eNLUwEPKCkh8"
      },
      "outputs": [],
      "source": [
        "predicted_categories"
      ]
    },
    {
      "cell_type": "code",
      "execution_count": null,
      "metadata": {
        "id": "qXdK70aqCpyY"
      },
      "outputs": [],
      "source": [
        "true_categories = tf.concat( [y for x,y in test_set], axis=0)\n",
        "true_categories"
      ]
    },
    {
      "cell_type": "code",
      "execution_count": null,
      "metadata": {
        "id": "RyNcpYIxESH3"
      },
      "outputs": [],
      "source": [
        "Y_true=predicted_categories = tf.argmax(y_pred,axis=1)\n",
        "Y_true"
      ]
    },
    {
      "cell_type": "code",
      "execution_count": null,
      "metadata": {
        "id": "a13Xi4uKEWGv"
      },
      "outputs": [],
      "source": [
        "# Calcualate Precision recall\n",
        "# Precision measures the precentage made by the model that are correct.\n",
        "# Recall measures the percenatage of the relevant data points that were correctly identified by the model.\n"
      ]
    },
    {
      "cell_type": "code",
      "execution_count": null,
      "metadata": {
        "id": "jb8wQxbAEfJD"
      },
      "outputs": [],
      "source": [
        "from sklearn.metrics import classification_report, confusion_matrix"
      ]
    },
    {
      "cell_type": "code",
      "execution_count": null,
      "metadata": {
        "id": "gSBYPcfqFjxV"
      },
      "outputs": [],
      "source": [
        "print(classification_report(Y_true, predicted_categories target_names=class_name))"
      ]
    },
    {
      "cell_type": "code",
      "execution_count": null,
      "metadata": {
        "id": "oG11vP-LGHF2"
      },
      "outputs": [],
      "source": [
        "# F-1 score calculation, perfect model have F-1 score of 1.\n",
        "cm = confusion_matrix(Y_true, predicted_categories)\n",
        "cm.shape()"
      ]
    },
    {
      "cell_type": "markdown",
      "metadata": {
        "id": "12NM5qMJHDNb"
      },
      "source": [
        "# Visualization of Confusion matrix"
      ]
    },
    {
      "cell_type": "code",
      "execution_count": null,
      "metadata": {
        "id": "nO5SoLy9Gxj9"
      },
      "outputs": [],
      "source": [
        "#sns.heatmap(cm)\n",
        "plt.figure(figsize=(40, 40))\n",
        "sns.heatmap(cm, annot=True, annot_kws={'size':10})\n",
        "plt.xlabel(\"Predicted Class\", fontsize=20)\n",
        "plt.ylabel(\"Actual Class\", fontsize=20)\n",
        "plt.title(\"Plant Disease Confusion Matrix\", fontsize=20)\n",
        "plt.show()\n",
        "# the result is saying it is confusion matix and the diagonal element is saying that it belongs to that class and actually it belings to that class\n",
        "# we can tune this model by adjusting filters, improving no. of nuerons, adjusting loss function"
      ]
    },
    {
      "cell_type": "code",
      "execution_count": null,
      "metadata": {
        "id": "YdAPMJDEIq7n"
      },
      "outputs": [],
      "source": []
    }
  ],
  "metadata": {
    "accelerator": "GPU",
    "colab": {
      "gpuType": "T4",
      "provenance": [],
      "mount_file_id": "11NnageCGONpmsTd56PQfYkF2TLq0nZlm",
      "authorship_tag": "ABX9TyNoZETGOdDCiN1tKwZgF1Lw",
      "include_colab_link": true
    },
    "kernelspec": {
      "display_name": "Python 3",
      "name": "python3"
    },
    "language_info": {
      "name": "python"
    }
  },
  "nbformat": 4,
  "nbformat_minor": 0
}